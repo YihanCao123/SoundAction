{
  "nbformat": 4,
  "nbformat_minor": 0,
  "metadata": {
    "colab": {
      "name": "Audio_Extration_Mel_Spectrograms.ipynb",
      "provenance": [],
      "authorship_tag": "ABX9TyOEd+W1+AH52Xc8SoNeF0rY",
      "include_colab_link": true
    },
    "kernelspec": {
      "name": "python3",
      "display_name": "Python 3"
    },
    "language_info": {
      "name": "python"
    }
  },
  "cells": [
    {
      "cell_type": "markdown",
      "metadata": {
        "id": "view-in-github",
        "colab_type": "text"
      },
      "source": [
        "<a href=\"https://colab.research.google.com/github/YihanCao123/SoundAction/blob/Audio_Feature_Extraction/AudioFeatureExtration/Audio_Extration_Mel_Spectrograms.ipynb\" target=\"_parent\"><img src=\"https://colab.research.google.com/assets/colab-badge.svg\" alt=\"Open In Colab\"/></a>"
      ]
    },
    {
      "cell_type": "code",
      "execution_count": null,
      "metadata": {
        "id": "GxmbFlo75i9C"
      },
      "outputs": [],
      "source": [
        "from google.colab import drive\n",
        "drive.mount('/content/drive')"
      ]
    },
    {
      "cell_type": "code",
      "source": [
        "!cd /content/drive/MyDrive/DeepLearning/Identifying_Actions_for_Sound_Event_Classification\n",
        "!git clone https://github.com/bmartin1/Identifying_Actions_for_Sound_Event_Classification.git\n",
        "!git clone https://github.com/karolpiczak/ESC-50.git"
      ],
      "metadata": {
        "id": "CN6r-FA86sjK"
      },
      "execution_count": null,
      "outputs": []
    },
    {
      "cell_type": "code",
      "source": [
        "!pip install openl3\n",
        "import pandas as pd\n",
        "import numpy as np\n",
        "import soundfile as sf\n",
        "import openl3\n",
        "import os"
      ],
      "metadata": {
        "id": "A-cnz1Lc7-Eb"
      },
      "execution_count": null,
      "outputs": []
    },
    {
      "cell_type": "markdown",
      "source": [
        "**Audio ExtrationII: Libraosa**"
      ],
      "metadata": {
        "id": "I_LAfMBMEuGF"
      }
    },
    {
      "cell_type": "code",
      "source": [
        "!pip install librosa"
      ],
      "metadata": {
        "id": "1XNbK8k-E32n"
      },
      "execution_count": null,
      "outputs": []
    },
    {
      "cell_type": "code",
      "source": [
        "import librosa"
      ],
      "metadata": {
        "id": "mH7t-cRFFCaG"
      },
      "execution_count": 14,
      "outputs": []
    },
    {
      "cell_type": "code",
      "source": [
        "def mel_spectrograms_batch(audio_path, metadata):\n",
        "   metadata_file = pd.read_csv(metadata)\n",
        "   filenames = metadata_file['filename'].tolist()\n",
        "   mel_list = []\n",
        "\n",
        "  #  filenames_num = len(filenames)\n",
        "  #  mel_list = []\n",
        "  #  Index = [i for i in range(0,filenames_num,batch_size)]\n",
        "\n",
        "  #  for i in range(len(Index)-1):\n",
        "  #    print(\"Batch-\",i)\n",
        "  #    start = Index[i]\n",
        "  #    end = Index[i+1]\n",
        "  #    for filename in filenames[start:end]:\n",
        "  #     y, sr = librosa.load(filename)\n",
        "  #     S = librosa.feature.melspectrogram(y=y, sr=sr, n_mels=128)\n",
        "  #     mel\n",
        "\n",
        "   for filename in filenames:\n",
        "     y, sr = librosa.load(audio_path+filename)\n",
        "     S = librosa.feature.melspectrogram(y=y, sr=sr, n_mels=128)\n",
        "     mel_list.append(S)\n",
        "  \n",
        "\n",
        "   dataset = tuple(zip(filenames,mel_list))\n",
        "   np.save('ESC-50_openl3_mel_spectrogram.npy', dataset)\n",
        "   print('Features computed')\n",
        "\n",
        "\n",
        "\n"
      ],
      "metadata": {
        "id": "W-fEVSwxJV6I"
      },
      "execution_count": 26,
      "outputs": []
    },
    {
      "cell_type": "code",
      "source": [
        "mel_spectrograms_batch(audio_path, metadata)"
      ],
      "metadata": {
        "colab": {
          "base_uri": "https://localhost:8080/"
        },
        "id": "_MhjtUrPaqjO",
        "outputId": "c40a5bc4-d7e1-4677-fe4a-507df87ff756"
      },
      "execution_count": 27,
      "outputs": [
        {
          "output_type": "stream",
          "name": "stderr",
          "text": [
            "/usr/local/lib/python3.7/dist-packages/numpy/lib/npyio.py:528: VisibleDeprecationWarning: Creating an ndarray from ragged nested sequences (which is a list-or-tuple of lists-or-tuples-or ndarrays with different lengths or shapes) is deprecated. If you meant to do this, you must specify 'dtype=object' when creating the ndarray.\n",
            "  arr = np.asanyarray(arr)\n"
          ]
        },
        {
          "output_type": "stream",
          "name": "stdout",
          "text": [
            "Features computed\n"
          ]
        }
      ]
    },
    {
      "cell_type": "code",
      "source": [
        "data = np.load(\"/content/ESC-50_openl3_mel_spectrogram.npy\",allow_pickle=True)\n",
        "print(data.shape)"
      ],
      "metadata": {
        "colab": {
          "base_uri": "https://localhost:8080/"
        },
        "id": "rymXsLFYhxNW",
        "outputId": "7f4b8a07-4d79-4daf-f257-a5f8568e18b1"
      },
      "execution_count": 28,
      "outputs": [
        {
          "output_type": "stream",
          "name": "stdout",
          "text": [
            "(2000, 2)\n"
          ]
        }
      ]
    },
    {
      "cell_type": "code",
      "source": [
        "!cp /content/ESC-50_openl3_mel_spectrogram.npy /content/drive/MyDrive/DeepLearning/Identifying_Actions_for_Sound_Event_Classification"
      ],
      "metadata": {
        "id": "DttjH1BglZUW"
      },
      "execution_count": 35,
      "outputs": []
    }
  ]
}